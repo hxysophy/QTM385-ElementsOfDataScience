{
 "cells": [
  {
   "cell_type": "markdown",
   "metadata": {},
   "source": [
    "# QTM 385\n",
    "\n",
    "***\n",
    "\n",
    "## Homework 4\n",
    "\n",
    "Student: [2324507]"
   ]
  },
  {
   "cell_type": "markdown",
   "metadata": {},
   "source": [
    "In this homework, we will create an object called Student, that is useful for a professor to store information about a student."
   ]
  },
  {
   "cell_type": "markdown",
   "metadata": {},
   "source": [
    "\n",
    "***\n",
    "\n",
    "### Question 1\n",
    "\n",
    "Create a class Student, that has:\n",
    "\n",
    "0. Id number (5-digits integer, starting with 1)\n",
    "1. First Name (str)\n",
    "2. Last Name (str)\n",
    "3. Grades (list of floats)\n",
    "4. Credits (list of integers)\n",
    "5. Major (str)\n",
    "\n",
    "Provide a constructor for your class and create one fictitious student."
   ]
  },
  {
   "cell_type": "code",
   "execution_count": 11,
   "metadata": {},
   "outputs": [],
   "source": [
    "class Student:\n",
    "    def __init__(self,idnum,fnam,lnam,gr,cr,mj):\n",
    "        self.ID=idnum\n",
    "        self.firstName=fnam\n",
    "        self.lastName=lnam\n",
    "        self.grades=gr\n",
    "        self.credits=cr\n",
    "        self.major=mj\n",
    "\n",
    "student = Student(12345,'Sophy','Huang',[4.0,3.7,4.0],[4,3,3],'AMS')"
   ]
  },
  {
   "cell_type": "markdown",
   "metadata": {},
   "source": [
    "\n",
    "***\n",
    "\n",
    "### Question 2\n",
    "\n",
    "Create a method to nicely display the student when we type `print`. It should display, for example:\n",
    "\n",
    "```\n",
    "Student:\n",
    "    Id: 12345\n",
    "    Name: Mig, Umberto\n",
    "    Major: QSS\n",
    "```\n",
    "\n",
    "Create a method that, when a variable storing a student is typed in the console, displays:\n",
    "\n",
    "```\n",
    "Student(Mig, Umberto; 12345)\n",
    "```\n",
    "\n",
    "Provide some testing with a fictitious result of your choice."
   ]
  },
  {
   "cell_type": "code",
   "execution_count": 12,
   "metadata": {},
   "outputs": [
    {
     "name": "stdout",
     "output_type": "stream",
     "text": [
      "\n",
      "Student:\n",
      "    Id: 12345\n",
      "    Name: Huang, Sophy\n",
      "    Major: AMS\n",
      "        \n"
     ]
    },
    {
     "data": {
      "text/plain": [
       "Student(Huang, Sophy; 12345)"
      ]
     },
     "execution_count": 12,
     "metadata": {},
     "output_type": "execute_result"
    }
   ],
   "source": [
    "class Student:\n",
    "    def __init__(self,idnum,fnam,lnam,gr,cr,mj):\n",
    "        self.ID=idnum\n",
    "        self.firstName=fnam\n",
    "        self.lastName=lnam\n",
    "        self.grades=gr\n",
    "        self.credits=cr\n",
    "        self.major=mj\n",
    "        \n",
    "    def __str__(self):\n",
    "        st_info=\"\"\"\n",
    "Student:\n",
    "    Id: {idnum}\n",
    "    Name: {lnam}, {fnam}\n",
    "    Major: {mj}\n",
    "        \"\"\".format(idnum=str(self.ID),fnam=str(self.firstName),lnam=str(self.lastName),mj=str(self.major))\n",
    "        return st_info\n",
    "    \n",
    "    def __repr__(self):\n",
    "        return \"Student({lnam}, {fnam}; {idnum})\".format(fnam=self.firstName,lnam=self.lastName,idnum=self.ID)\n",
    "    \n",
    "student = Student(12345,'Sophy','Huang',[4.0,3.7,4.0],[4,3,3],'AMS')\n",
    "print(student)\n",
    "student"
   ]
  },
  {
   "cell_type": "markdown",
   "metadata": {},
   "source": [
    "\n",
    "***\n",
    "\n",
    "### Question 3\n",
    "\n",
    "Implement class methods for:\n",
    "\n",
    "1. Check if the id number is valid (remember: 5 digits, starting with number one)\n",
    "2. Check if the grades list has the same length as the credits list. The idea is that every grade corresponds to a course that gave the student a certain amount of credits.\n",
    "3. Append grade and credit: given a grade, and credits attached to the grade, append both to each respective place.\n",
    "\n",
    "Test your function with a toy student of your choice."
   ]
  },
  {
   "cell_type": "code",
   "execution_count": 30,
   "metadata": {},
   "outputs": [
    {
     "name": "stdout",
     "output_type": "stream",
     "text": [
      "True\n",
      "True\n",
      "[[4.0, 4], [3.7, 3], [4.0, 3]]\n"
     ]
    }
   ],
   "source": [
    "class Student:\n",
    "    def __init__(self,idnum,fnam,lnam,gr,cr,mj):\n",
    "        self.ID=idnum\n",
    "        self.firstName=fnam\n",
    "        self.lastName=lnam\n",
    "        self.grades=gr\n",
    "        self.credits=cr\n",
    "        self.major=mj\n",
    "        \n",
    "    def id_check(self):\n",
    "        return len(str(self.ID)) == 5 and str(self.ID)[0] == '1'\n",
    "    \n",
    "    def gr_cr_length_check(self):\n",
    "        return len(self.grades) == len(self.credits)\n",
    "    \n",
    "    def append_gr_cr(self):\n",
    "        final=[]\n",
    "        for i in range(len(self.grades)):\n",
    "            res = []\n",
    "            res.append(self.grades[i])\n",
    "            res.append(self.credits[i])\n",
    "            final.append(res)\n",
    "        return final\n",
    "\n",
    "student = Student(12345,'Sophy','Huang',[4.0,3.7,4.0],[4,3,3],'AMS')\n",
    "#test cases:\n",
    "#student = Student(54321,'Sophy','Huang',[4.0,3.7,4.0],[4,3,3],'AMS') #ID 5 digits but starts with 5 -> False\n",
    "#student = Student(123456,'Sophy','Huang',[4.0,3.7,4.0],[4,3,3],'AMS') #ID 6 digits starting with 1 -> False\n",
    "print(student.id_check())\n",
    "#test cases:\n",
    "#student = Student(12345,'Sophy','Huang',[4.0,3.7,4.0],[4,3,3,4],'AMS') #credits list longer than grades list -> False\n",
    "#student = Student(12345,'Sophy','Huang',[4.0,3.7,4.0,4.0],[4,3,3],'AMS') #grades list longer than credits list -> False\n",
    "print(student.gr_cr_length_check())\n",
    "\n",
    "print(student.append_gr_cr())"
   ]
  },
  {
   "cell_type": "markdown",
   "metadata": {},
   "source": [
    "\n",
    "***\n",
    "\n",
    "### Question 4\n",
    "\n",
    "Create a module in the class Student that computes the unweighted average of the student's grades."
   ]
  },
  {
   "cell_type": "code",
   "execution_count": 33,
   "metadata": {},
   "outputs": [
    {
     "data": {
      "text/plain": [
       "3.9"
      ]
     },
     "execution_count": 33,
     "metadata": {},
     "output_type": "execute_result"
    }
   ],
   "source": [
    "class Student:\n",
    "    def __init__(self,idnum,fnam,lnam,gr,cr,mj):\n",
    "        self.ID=idnum\n",
    "        self.firstName=fnam\n",
    "        self.lastName=lnam\n",
    "        self.grades=gr\n",
    "        self.credits=cr\n",
    "        self.major=mj\n",
    "    \n",
    "    def unweighted_avg_gr(self):\n",
    "        avg = 0\n",
    "        for i in self.grades:\n",
    "            avg += i\n",
    "        avg = avg / len(self.grades)\n",
    "        return avg\n",
    "    \n",
    "student = Student(12345,'Sophy','Huang',[4.0,3.7,4.0],[4,3,3],'AMS')\n",
    "student.unweighted_avg_gr()"
   ]
  },
  {
   "cell_type": "markdown",
   "metadata": {},
   "source": [
    "\n",
    "***\n",
    "\n",
    "### Question 5\n",
    "\n",
    "Create a module in the class Student that computes the weighted average of the student's grades, weighted by the credits."
   ]
  },
  {
   "cell_type": "code",
   "execution_count": 35,
   "metadata": {},
   "outputs": [
    {
     "data": {
      "text/plain": [
       "3.91"
      ]
     },
     "execution_count": 35,
     "metadata": {},
     "output_type": "execute_result"
    }
   ],
   "source": [
    "class Student:\n",
    "    def __init__(self,idnum,fnam,lnam,gr,cr,mj):\n",
    "        self.ID=idnum\n",
    "        self.firstName=fnam\n",
    "        self.lastName=lnam\n",
    "        self.grades=gr\n",
    "        self.credits=cr\n",
    "        self.major=mj\n",
    "    \n",
    "    def weighted_avg_gr(self):\n",
    "        avg = 0\n",
    "        crd = 0\n",
    "        for i in self.credits:\n",
    "            crd += i\n",
    "        for j in range(len(self.grades)):\n",
    "            avg += self.grades[j]*(self.credits[j]/crd)\n",
    "        return avg\n",
    "    \n",
    "    \n",
    "student = Student(12345,'Sophy','Huang',[4.0,3.7,4.0],[4,3,3],'AMS')\n",
    "student.weighted_avg_gr()"
   ]
  },
  {
   "cell_type": "markdown",
   "metadata": {},
   "source": [
    "**That's all, folks!**"
   ]
  }
 ],
 "metadata": {
  "kernelspec": {
   "display_name": "Python 3",
   "language": "python",
   "name": "python3"
  },
  "language_info": {
   "codemirror_mode": {
    "name": "ipython",
    "version": 3
   },
   "file_extension": ".py",
   "mimetype": "text/x-python",
   "name": "python",
   "nbconvert_exporter": "python",
   "pygments_lexer": "ipython3",
   "version": "3.8.5"
  }
 },
 "nbformat": 4,
 "nbformat_minor": 4
}
